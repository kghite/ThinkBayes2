{
 "cells": [
  {
   "cell_type": "markdown",
   "metadata": {
    "collapsed": true
   },
   "source": [
    "---\n",
    "# Bayesian Report 1\n",
    "---\n",
    "This notebook provides descriptions and solutions for several interesting problems that can be solved utilizing Bayes' Theorem.  The first six problems are from *My Favorite Bayes's Theorem Problems*, by Allen Downey, which can be found here: http://allendowney.blogspot.com/2011/10/my-favorite-bayess-theorem-problems.html.  Problem 7 details an original problem and solution also using Bayes' Theorem.\n",
    "\n",
    "Kathryn Hite 9/12/16"
   ]
  },
  {
   "cell_type": "markdown",
   "metadata": {},
   "source": [
    "---\n",
    "## Background\n",
    "### Bayes' Theorem\n",
    "Bayes' Theorem allows us to compute the probability of event $A$ occurring given that event $B$ has occurred using the following equation:\n",
    "\n",
    "$p(A|B) = \\frac{p(A)p(B|A)}{p(B)}$\n",
    "\n",
    "### The Diachronic Interpretation\n",
    "The diachronic interpretation of Bayes' Theorem allows us to determine the likelihood of a hypothesis given some set of data.  Given a hypothesis $H$ and data $D$, we can write probability of $H$ given $D$ as \n",
    "\n",
    "$p(H|D) = \\frac{p(H)p(D|H)}{p(D)}$,\n",
    "\n",
    "where\n",
    "\n",
    "- $p(H)$ is the Prior,\n",
    "- $p(H|D)$ is the Posterior,\n",
    "- $p(D|H)$ is the Likelihood,\n",
    "- and $p(D)$ is the Normalizing Constant."
   ]
  },
  {
   "cell_type": "markdown",
   "metadata": {},
   "source": [
    "---\n",
    "## Problem 1\n",
    "### The Cookie Problem\n",
    "\n",
    "**Problem:** In this problem, we consider two bowls of cookies.  Bowl 1 contains 10 chocolate chip cookies and 30 plain cookies, while bowl 2 contains 20 chocolate chip and 20 plain cookies.  If we were to choose a plain cookie from a random bowl, what is the probability that the cookie was taken from bowl 1?\n",
    "\n",
    "**Solution:** This problem is easily solved using the table method.  Our first hypothesis $H_1$ is that we drew a cookie from Bowl 1, the second $H_2$ is that we drew a cookie from Bowl 2.  The data $D$ states that the cookie that we drew is plain.  This allows us to construct the following table.\n",
    "\n",
    "| **Hypothesis** |  **Prior Prob** | **Likelihood** | **Unnormalized Posterior** | **Posterior** |\n",
    "| :---: | :---: | :---: | :---: | :---: |\n",
    "| $H$ | $p(H)$ | $p(D|H)$ | $p(H)p(D|H)$ | $\\frac{p(H)p(D|H)}{p(D)}$ |\n",
    "| Bowl 1 | $\\frac{1}{2}$ | $\\frac{3}{4}$ | $\\frac{3}{8}$ | $\\frac{3}{5}$ |\n",
    "| Bowl 2 | $\\frac{1}{2}$ | $\\frac{1}{2}$ | $\\frac{1}{4}$ | $\\frac{2}{5}$ |\n",
    "| | | | **Total Probability** | |\n",
    "| | | | $p(D)$ | |\n",
    "| | | | $\\frac{5}{8}$ | |"
   ]
  },
  {
   "cell_type": "markdown",
   "metadata": {},
   "source": [
    "---\n",
    "## Problem 2\n",
    "### The M&M Problem"
   ]
  },
  {
   "cell_type": "markdown",
   "metadata": {},
   "source": [
    "---\n",
    "## Problem 3\n",
    "### The Elvis Twin Problem"
   ]
  },
  {
   "cell_type": "markdown",
   "metadata": {},
   "source": [
    "---\n",
    "## Problem 4\n",
    "### The Crime Scene Problem"
   ]
  },
  {
   "cell_type": "markdown",
   "metadata": {},
   "source": [
    "---\n",
    "## Problem 5\n",
    "### The Smoking Problem"
   ]
  },
  {
   "cell_type": "markdown",
   "metadata": {},
   "source": [
    "---\n",
    "## Problem 6\n",
    "### The Monty Hall Problem"
   ]
  },
  {
   "cell_type": "markdown",
   "metadata": {},
   "source": [
    "---\n",
    "## Problem 7\n",
    "### New Problem"
   ]
  }
 ],
 "metadata": {
  "anaconda-cloud": {},
  "kernelspec": {
   "display_name": "Python [Root]",
   "language": "python",
   "name": "Python [Root]"
  },
  "language_info": {
   "codemirror_mode": {
    "name": "ipython",
    "version": 3
   },
   "file_extension": ".py",
   "mimetype": "text/x-python",
   "name": "python",
   "nbconvert_exporter": "python",
   "pygments_lexer": "ipython3",
   "version": "3.5.2"
  }
 },
 "nbformat": 4,
 "nbformat_minor": 0
}
