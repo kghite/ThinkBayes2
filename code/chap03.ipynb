{
 "cells": [
  {
   "cell_type": "markdown",
   "metadata": {},
   "source": [
    "# Think Bayes: Chapter 3\n",
    "\n",
    "This notebook presents example code and exercise solutions for Think Bayes.\n",
    "\n",
    "Copyright 2016 Allen B. Downey\n",
    "\n",
    "MIT License: https://opensource.org/licenses/MIT"
   ]
  },
  {
   "cell_type": "code",
   "execution_count": 1,
   "metadata": {
    "collapsed": true
   },
   "outputs": [],
   "source": [
    "from __future__ import print_function, division\n",
    "\n",
    "% matplotlib inline\n",
    "\n",
    "import thinkplot\n",
    "from thinkbayes2 import Hist, Pmf, Suite, Cdf"
   ]
  },
  {
   "cell_type": "markdown",
   "metadata": {},
   "source": [
    "## The Dice problem\n",
    "\n",
    "Suppose I have a box of dice that contains a 4-sided die, a 6-sided\n",
    "die, an 8-sided die, a 12-sided die, and a 20-sided die.\n",
    "\n",
    "Suppose I select a die from the box at random, roll it, and get a 6.\n",
    "What is the probability that I rolled each die?\n",
    "\n",
    "The `Dice` class inherits `Update` and provides `Likelihood`"
   ]
  },
  {
   "cell_type": "code",
   "execution_count": 2,
   "metadata": {
    "collapsed": false
   },
   "outputs": [],
   "source": [
    "class Dice(Suite):\n",
    "    def Likelihood(self, data, hypo):\n",
    "        if hypo < data:\n",
    "            return 0\n",
    "        else:\n",
    "            return 1/hypo"
   ]
  },
  {
   "cell_type": "markdown",
   "metadata": {},
   "source": [
    "Here's what the update looks like:"
   ]
  },
  {
   "cell_type": "code",
   "execution_count": 3,
   "metadata": {
    "collapsed": false
   },
   "outputs": [
    {
     "name": "stdout",
     "output_type": "stream",
     "text": [
      "4 0.0\n",
      "6 0.3921568627450979\n",
      "8 0.2941176470588235\n",
      "12 0.19607843137254896\n",
      "20 0.11764705882352941\n"
     ]
    }
   ],
   "source": [
    "suite = Dice([4, 6, 8, 12, 20])\n",
    "suite.Update(6)\n",
    "suite.Print()"
   ]
  },
  {
   "cell_type": "markdown",
   "metadata": {},
   "source": [
    "And here's what it looks like after more data:"
   ]
  },
  {
   "cell_type": "code",
   "execution_count": 4,
   "metadata": {
    "collapsed": false
   },
   "outputs": [
    {
     "name": "stdout",
     "output_type": "stream",
     "text": [
      "4 0.0\n",
      "6 0.0\n",
      "8 0.9432484536722127\n",
      "12 0.055206128061290875\n",
      "20 0.001545418266496554\n"
     ]
    }
   ],
   "source": [
    "for roll in [6, 8, 7, 7, 5, 4]:\n",
    "        suite.Update(roll)\n",
    "        \n",
    "suite.Print()"
   ]
  },
  {
   "cell_type": "markdown",
   "metadata": {},
   "source": [
    "## The train problem\n",
    "\n",
    "The Train problem has the same likelihood as the Dice problem."
   ]
  },
  {
   "cell_type": "code",
   "execution_count": 5,
   "metadata": {
    "collapsed": true
   },
   "outputs": [],
   "source": [
    "class Train(Suite):\n",
    "    def Likelihood(self, data, hypo):\n",
    "        if hypo < data:\n",
    "            return 0\n",
    "        else:\n",
    "            return 1/hypo"
   ]
  },
  {
   "cell_type": "markdown",
   "metadata": {},
   "source": [
    "But there are many more hypotheses"
   ]
  },
  {
   "cell_type": "code",
   "execution_count": 6,
   "metadata": {
    "collapsed": false
   },
   "outputs": [
    {
     "ename": "NameError",
     "evalue": "name 'xrange' is not defined",
     "output_type": "error",
     "traceback": [
      "\u001b[1;31m---------------------------------------------------------------------------\u001b[0m",
      "\u001b[1;31mNameError\u001b[0m                                 Traceback (most recent call last)",
      "\u001b[1;32m<ipython-input-6-fd9a2e4ba40c>\u001b[0m in \u001b[0;36m<module>\u001b[1;34m()\u001b[0m\n\u001b[1;32m----> 1\u001b[1;33m \u001b[0mhypos\u001b[0m \u001b[1;33m=\u001b[0m \u001b[0mxrange\u001b[0m\u001b[1;33m(\u001b[0m\u001b[1;36m1\u001b[0m\u001b[1;33m,\u001b[0m \u001b[1;36m1001\u001b[0m\u001b[1;33m)\u001b[0m\u001b[1;33m\u001b[0m\u001b[0m\n\u001b[0m\u001b[0;32m      2\u001b[0m \u001b[0msuite\u001b[0m \u001b[1;33m=\u001b[0m \u001b[0mTrain\u001b[0m\u001b[1;33m(\u001b[0m\u001b[0mhypos\u001b[0m\u001b[1;33m)\u001b[0m\u001b[1;33m\u001b[0m\u001b[0m\n\u001b[0;32m      3\u001b[0m \u001b[0msuite\u001b[0m\u001b[1;33m.\u001b[0m\u001b[0mUpdate\u001b[0m\u001b[1;33m(\u001b[0m\u001b[1;36m60\u001b[0m\u001b[1;33m)\u001b[0m\u001b[1;33m\u001b[0m\u001b[0m\n",
      "\u001b[1;31mNameError\u001b[0m: name 'xrange' is not defined"
     ]
    }
   ],
   "source": [
    "hypos = xrange(1, 1001)\n",
    "suite = Train(hypos)\n",
    "suite.Update(60)"
   ]
  },
  {
   "cell_type": "markdown",
   "metadata": {},
   "source": [
    "Here's what the posterior looks like"
   ]
  },
  {
   "cell_type": "code",
   "execution_count": null,
   "metadata": {
    "collapsed": false
   },
   "outputs": [],
   "source": [
    "thinkplot.Pdf(suite)"
   ]
  },
  {
   "cell_type": "markdown",
   "metadata": {},
   "source": [
    "And here's how we can compute the posterior mean"
   ]
  },
  {
   "cell_type": "code",
   "execution_count": null,
   "metadata": {
    "collapsed": false
   },
   "outputs": [],
   "source": [
    "def Mean(suite):\n",
    "    total = 0\n",
    "    for hypo, prob in suite.Items():\n",
    "        total += hypo * prob\n",
    "    return total\n",
    "\n",
    "Mean(suite)"
   ]
  },
  {
   "cell_type": "markdown",
   "metadata": {},
   "source": [
    "Or we can just use the method"
   ]
  },
  {
   "cell_type": "code",
   "execution_count": null,
   "metadata": {
    "collapsed": false
   },
   "outputs": [],
   "source": [
    "suite.Mean()"
   ]
  },
  {
   "cell_type": "markdown",
   "metadata": {},
   "source": [
    "## Sensitivity to the prior\n",
    "\n",
    "Here's a function that solves the train problem for different priors and data"
   ]
  },
  {
   "cell_type": "code",
   "execution_count": null,
   "metadata": {
    "collapsed": true
   },
   "outputs": [],
   "source": [
    "def MakePosterior(high, dataset, constructor=Train):\n",
    "    \"\"\"Solves the train problem.\n",
    "    \n",
    "    high: int maximum number of trains\n",
    "    dataset: sequence of observed train numbers\n",
    "    constructor: function used to construct the Train object\n",
    "    \n",
    "    returns: Train object representing the posterior suite\n",
    "    \"\"\"\n",
    "    hypos = range(1, high+1)\n",
    "    suite = constructor(hypos)\n",
    "\n",
    "    for data in dataset:\n",
    "        suite.Update(data)\n",
    "\n",
    "    return suite"
   ]
  },
  {
   "cell_type": "markdown",
   "metadata": {},
   "source": [
    "Let's run it with the same dataset and several uniform priors"
   ]
  },
  {
   "cell_type": "code",
   "execution_count": null,
   "metadata": {
    "collapsed": false
   },
   "outputs": [],
   "source": [
    "dataset = [30, 60, 90]\n",
    "\n",
    "for high in [500, 1000, 2000]:\n",
    "    suite = MakePosterior(high, dataset)\n",
    "    print(high, suite.Mean())"
   ]
  },
  {
   "cell_type": "markdown",
   "metadata": {},
   "source": [
    "The results are quite sensitive to the prior, even with several observations."
   ]
  },
  {
   "cell_type": "markdown",
   "metadata": {},
   "source": [
    "## Power law prior\n",
    "\n",
    "Now let's try it with a power law prior."
   ]
  },
  {
   "cell_type": "code",
   "execution_count": null,
   "metadata": {
    "collapsed": true
   },
   "outputs": [],
   "source": [
    "class Train2(Train):\n",
    "\n",
    "    def __init__(self, hypos, alpha=1.0):\n",
    "        Pmf.__init__(self)\n",
    "        for hypo in hypos:\n",
    "            self[hypo] = hypo**(-alpha)\n",
    "        self.Normalize()"
   ]
  },
  {
   "cell_type": "markdown",
   "metadata": {},
   "source": [
    "Here's what a power law prior looks like, compared to a uniform prior"
   ]
  },
  {
   "cell_type": "code",
   "execution_count": null,
   "metadata": {
    "collapsed": false
   },
   "outputs": [],
   "source": [
    "high = 100\n",
    "hypos = range(1, high+1)\n",
    "suite1 = Train(hypos)\n",
    "suite2 = Train2(hypos)\n",
    "thinkplot.Pdf(suite1)\n",
    "thinkplot.Pdf(suite2)\n"
   ]
  },
  {
   "cell_type": "markdown",
   "metadata": {},
   "source": [
    "Now let's see what the posteriors look like after observing one train."
   ]
  },
  {
   "cell_type": "code",
   "execution_count": null,
   "metadata": {
    "collapsed": false
   },
   "outputs": [],
   "source": [
    "dataset = [60]\n",
    "high = 1000\n",
    "\n",
    "thinkplot.PrePlot(num=2)\n",
    "\n",
    "constructors = [Train, Train2]\n",
    "labels = ['uniform', 'power law']\n",
    "\n",
    "for constructor, label in zip(constructors, labels):\n",
    "    suite = MakePosterior(high, dataset, constructor)\n",
    "    suite.label = label\n",
    "    thinkplot.Pmf(suite)\n",
    "\n",
    "thinkplot.Config(xlabel='Number of trains',\n",
    "                 ylabel='Probability')"
   ]
  },
  {
   "cell_type": "markdown",
   "metadata": {},
   "source": [
    "The power law gives less prior probability to high values, which yields lower posterior means, and less sensitivity to the upper bound."
   ]
  },
  {
   "cell_type": "code",
   "execution_count": null,
   "metadata": {
    "collapsed": false
   },
   "outputs": [],
   "source": [
    "dataset = [30, 60, 90]\n",
    "\n",
    "for high in [500, 1000, 2000]:\n",
    "    suite = MakePosterior(high, dataset, Train2)\n",
    "    print(high, suite.Mean())"
   ]
  },
  {
   "cell_type": "markdown",
   "metadata": {},
   "source": [
    "## Credible intervals\n",
    "\n",
    "To compute credible intervals, we can use the `Percentile` method on the posterior."
   ]
  },
  {
   "cell_type": "code",
   "execution_count": null,
   "metadata": {
    "collapsed": false
   },
   "outputs": [],
   "source": [
    "hypos = xrange(1, 1001)\n",
    "suite = Train(hypos)\n",
    "suite.Update(60)\n",
    "\n",
    "suite.Percentile(5), suite.Percentile(95)"
   ]
  },
  {
   "cell_type": "markdown",
   "metadata": {},
   "source": [
    "If you have to compute more than a few percentiles, it is more efficient to compute a CDF.\n",
    "\n",
    "Also, a CDF can be a better way to visualize distributions."
   ]
  },
  {
   "cell_type": "code",
   "execution_count": null,
   "metadata": {
    "collapsed": false
   },
   "outputs": [],
   "source": [
    "cdf = Cdf(suite)\n",
    "thinkplot.Cdf(cdf)\n",
    "thinkplot.Config(xlabel='Number of trains',\n",
    "                 ylabel='Cumulative Probability',\n",
    "                 legend=False)"
   ]
  },
  {
   "cell_type": "markdown",
   "metadata": {},
   "source": [
    "`Cdf` also provides `Percentile`"
   ]
  },
  {
   "cell_type": "code",
   "execution_count": null,
   "metadata": {
    "collapsed": false
   },
   "outputs": [],
   "source": [
    "cdf.Percentile(5), cdf.Percentile(95)"
   ]
  },
  {
   "cell_type": "markdown",
   "metadata": {},
   "source": [
    "## Exercises"
   ]
  },
  {
   "cell_type": "markdown",
   "metadata": {},
   "source": [
    "**Exercise:** To write a likelihood function for the locomotive problem, we had\n",
    "to answer this question:  \"If the railroad has `N` locomotives, what\n",
    "is the probability that we see number 60?\"\n",
    "\n",
    "The answer depends on what sampling process we use when we observe the\n",
    "locomotive.  In this chapter, I resolved the ambiguity by specifying\n",
    "that there is only one train-operating company (or only one that we\n",
    "care about).\n",
    "\n",
    "But suppose instead that there are many companies with different\n",
    "numbers of trains.  And suppose that you are equally likely to see any\n",
    "train operated by any company.\n",
    "In that case, the likelihood function is different because you\n",
    "are more likely to see a train operated by a large company.\n",
    "\n",
    "As an exercise, implement the likelihood function for this variation\n",
    "of the locomotive problem, and compare the results."
   ]
  },
  {
   "cell_type": "code",
   "execution_count": null,
   "metadata": {
    "collapsed": true
   },
   "outputs": [],
   "source": [
    "# Solution goes here"
   ]
  },
  {
   "cell_type": "markdown",
   "metadata": {},
   "source": [
    "**Exercise:** Suppose I capture and tag 10 rock hyraxes.  Some time later, I capture another 10 hyraxes and find that two of them are already tagged.  How many hyraxes are there in this environment?\n",
    "\n",
    "As always with problems like this, we have to make some modeling assumptions. \n",
    "\n",
    "1) For simplicity, you can assume that the environment is reasonably isolated, so the number of hyraxes does not change between observations.\n",
    "\n",
    "2) And you can assume that each hyrax is equally likely to be captured during each phase of the experiment, regardless of whether it has been tagged.  In reality, it is possible that tagged animals would avoid traps in the future, or possible that the same behavior that got them caught the first time makes them more likely to be caught again.  But let's start simple.\n",
    "\n",
    "I suggest the following notation:\n",
    "\n",
    "*  `N`: total population of hyraxes \n",
    "*  `K`: number of hyraxes tagged in the first round \n",
    "*  `n`: number of hyraxes caught in the second round\n",
    "*  `k`: number of hyraxes in the second round that had been tagged\n",
    "\n",
    "So `N` is the hypothesis and `(K, n, k)` make up the data.  The probability of the data, given the hypothesis, is the probability of finding `k` tagged hyraxes out of `n` if (in the population) `K` out of `N` are tagged. \n",
    "\n",
    "If you are familiar with the hypergeometric distribution, you can use the hypergeometric PMF to compute the likelihood function.  Otherwise, you can figure it out using combinatorics."
   ]
  },
  {
   "cell_type": "code",
   "execution_count": null,
   "metadata": {
    "collapsed": true
   },
   "outputs": [],
   "source": [
    "# Solution goes here"
   ]
  },
  {
   "cell_type": "code",
   "execution_count": null,
   "metadata": {
    "collapsed": false
   },
   "outputs": [],
   "source": [
    "# Solution goes here"
   ]
  },
  {
   "cell_type": "code",
   "execution_count": null,
   "metadata": {
    "collapsed": false
   },
   "outputs": [],
   "source": [
    "# Solution goes here"
   ]
  },
  {
   "cell_type": "code",
   "execution_count": null,
   "metadata": {
    "collapsed": false
   },
   "outputs": [],
   "source": [
    "# Solution goes here"
   ]
  },
  {
   "cell_type": "code",
   "execution_count": null,
   "metadata": {
    "collapsed": false
   },
   "outputs": [],
   "source": [
    "# Solution goes here"
   ]
  },
  {
   "cell_type": "code",
   "execution_count": null,
   "metadata": {
    "collapsed": false
   },
   "outputs": [],
   "source": [
    "# Solution goes here"
   ]
  },
  {
   "cell_type": "code",
   "execution_count": null,
   "metadata": {
    "collapsed": false
   },
   "outputs": [],
   "source": [
    "# Solution goes here"
   ]
  },
  {
   "cell_type": "code",
   "execution_count": null,
   "metadata": {
    "collapsed": true
   },
   "outputs": [],
   "source": []
  }
 ],
 "metadata": {
  "anaconda-cloud": {},
  "kernelspec": {
   "display_name": "Python [Root]",
   "language": "python",
   "name": "Python [Root]"
  },
  "language_info": {
   "codemirror_mode": {
    "name": "ipython",
    "version": 3
   },
   "file_extension": ".py",
   "mimetype": "text/x-python",
   "name": "python",
   "nbconvert_exporter": "python",
   "pygments_lexer": "ipython3",
   "version": "3.5.2"
  }
 },
 "nbformat": 4,
 "nbformat_minor": 0
}
